{
 "cells": [
  {
   "cell_type": "code",
   "execution_count": 14,
   "id": "bab5c29e",
   "metadata": {},
   "outputs": [
    {
     "data": {
      "text/plain": [
       "'Handling Nulls: \\n    Decide whether to fill, drop, or impute missing values.\\nTransforming Dates: \\n    Combine dob_day, dob_month, dob_year into a dob field or calculate age.\\nGender Normalization: \\n    Standardize gender values (e.g., handling typos like \"Male\", \"male\", \"M\").\\nCap Outliers: \\n    Cap extreme values (e.g., setting a max limit on friend_count).\\nCalculate New Fields: \\n    Create useful columns like:\\nengagement_ratio = likes / tenure (how actively the user engages over time).'"
      ]
     },
     "execution_count": 14,
     "metadata": {},
     "output_type": "execute_result"
    }
   ],
   "source": [
    "##Step 1: Identifying Missing or Invalid Data\n",
    "\"\"\"Check for Nulls / Missing Values: \n",
    "    Identify missing values in important columns like age, gender, likes.\n",
    "Check Data Types: \n",
    "    Ensure the correct data type for each attribute (e.g., userid as integer, gender as string).\n",
    "Check Range Constraints: \n",
    "    Ensure values fall within valid ranges (e.g., age should be between 13–120).\n",
    "Handle Duplicates: Ensure unique userids; identify and remove potential duplicate rows.\"\"\"\n",
    "    \n",
    "##Step 2: Transformation Plan\n",
    "\"\"\"Handling Nulls: \n",
    "    Decide whether to fill, drop, or impute missing values.\n",
    "Transforming Dates: \n",
    "    Combine dob_day, dob_month, dob_year into a dob field or calculate age.\n",
    "Gender Normalization: \n",
    "    Standardize gender values (e.g., handling typos like \"Male\", \"male\", \"M\").\n",
    "Cap Outliers: \n",
    "    Cap extreme values (e.g., setting a max limit on friend_count).\n",
    "Calculate New Fields: \n",
    "    Create useful columns like:\n",
    "engagement_ratio = likes / tenure (how actively the user engages over time).\"\"\""
   ]
  },
  {
   "cell_type": "code",
   "execution_count": 15,
   "id": "ec022538",
   "metadata": {},
   "outputs": [],
   "source": [
    "import pandas as pd\n",
    "import numpy as np"
   ]
  },
  {
   "cell_type": "code",
   "execution_count": 16,
   "id": "677d3aa0",
   "metadata": {},
   "outputs": [
    {
     "name": "stdout",
     "output_type": "stream",
     "text": [
      "        userid  age  dob_day  dob_year  dob_month  gender  tenure  \\\n",
      "0      2094382   14       19      1999         11    male   266.0   \n",
      "1      1192601   14        2      1999         11  female     6.0   \n",
      "2      2083884   14       16      1999         11    male    13.0   \n",
      "3      1203168   14       25      1999         12  female    93.0   \n",
      "4      1733186   14        4      1999         12    male    82.0   \n",
      "...        ...  ...      ...       ...        ...     ...     ...   \n",
      "98998  1268299   68        4      1945          4  female   541.0   \n",
      "98999  1256153   18       12      1995          3  female    21.0   \n",
      "99000  1195943   15       10      1998          5  female   111.0   \n",
      "99001  1468023   23       11      1990          4  female   416.0   \n",
      "99002  1397896   39       15      1974          5  female   397.0   \n",
      "\n",
      "       friend_count  friendships_initiated  likes  likes_received  \\\n",
      "0                 0                      0      0               0   \n",
      "1                 0                      0      0               0   \n",
      "2                 0                      0      0               0   \n",
      "3                 0                      0      0               0   \n",
      "4                 0                      0      0               0   \n",
      "...             ...                    ...    ...             ...   \n",
      "98998          2118                    341   3996           18089   \n",
      "98999          1968                   1720   4401           13412   \n",
      "99000          2002                   1524  11959           12554   \n",
      "99001          2560                    185   4506            6516   \n",
      "99002          2049                    768   9410           12443   \n",
      "\n",
      "       mobile_likes  mobile_likes_received  www_likes  www_likes_received  \n",
      "0                 0                      0          0                   0  \n",
      "1                 0                      0          0                   0  \n",
      "2                 0                      0          0                   0  \n",
      "3                 0                      0          0                   0  \n",
      "4                 0                      0          0                   0  \n",
      "...             ...                    ...        ...                 ...  \n",
      "98998          3505                  11887        491                6202  \n",
      "98999          4399                  10592          2                2820  \n",
      "99000         11959                  11462          0                1092  \n",
      "99001          4506                   5760          0                 756  \n",
      "99002          9410                   9530          0                2913  \n",
      "\n",
      "[99003 rows x 15 columns]\n"
     ]
    }
   ],
   "source": [
    "data=pd.read_csv(\"/Users/jayadeep/Desktop/Prep/Facebook_EDA/FB_Data.csv\")\n",
    "print(data)"
   ]
  },
  {
   "cell_type": "markdown",
   "id": "f1a2389f",
   "metadata": {},
   "source": [
    "# Cleaning the Data "
   ]
  },
  {
   "cell_type": "code",
   "execution_count": 18,
   "id": "505d986d",
   "metadata": {},
   "outputs": [
    {
     "name": "stdout",
     "output_type": "stream",
     "text": [
      "userid                     0\n",
      "age                        0\n",
      "dob_day                    0\n",
      "dob_year                   0\n",
      "dob_month                  0\n",
      "gender                   175\n",
      "tenure                     2\n",
      "friend_count               0\n",
      "friendships_initiated      0\n",
      "likes                      0\n",
      "likes_received             0\n",
      "mobile_likes               0\n",
      "mobile_likes_received      0\n",
      "www_likes                  0\n",
      "www_likes_received         0\n",
      "dtype: int64\n"
     ]
    }
   ],
   "source": [
    "#Checking Missing Values \n",
    "print(data.isnull().sum()) "
   ]
  },
  {
   "cell_type": "code",
   "execution_count": 19,
   "id": "ab442b7a",
   "metadata": {},
   "outputs": [
    {
     "name": "stdout",
     "output_type": "stream",
     "text": [
      "userid                   0\n",
      "age                      0\n",
      "dob_day                  0\n",
      "dob_year                 0\n",
      "dob_month                0\n",
      "gender                   0\n",
      "tenure                   0\n",
      "friend_count             0\n",
      "friendships_initiated    0\n",
      "likes                    0\n",
      "likes_received           0\n",
      "mobile_likes             0\n",
      "mobile_likes_received    0\n",
      "www_likes                0\n",
      "www_likes_received       0\n",
      "dtype: int64\n"
     ]
    }
   ],
   "source": [
    "#Check doe EmptyStrings\n",
    "print((df == \"\").sum())"
   ]
  },
  {
   "cell_type": "code",
   "execution_count": null,
   "id": "971d2412",
   "metadata": {},
   "outputs": [],
   "source": []
  },
  {
   "cell_type": "code",
   "execution_count": null,
   "id": "ff8c3dfe",
   "metadata": {},
   "outputs": [],
   "source": []
  },
  {
   "cell_type": "code",
   "execution_count": null,
   "id": "4efc0a8e",
   "metadata": {},
   "outputs": [],
   "source": []
  }
 ],
 "metadata": {
  "kernelspec": {
   "display_name": "Python 3 (ipykernel)",
   "language": "python",
   "name": "python3"
  },
  "language_info": {
   "codemirror_mode": {
    "name": "ipython",
    "version": 3
   },
   "file_extension": ".py",
   "mimetype": "text/x-python",
   "name": "python",
   "nbconvert_exporter": "python",
   "pygments_lexer": "ipython3",
   "version": "3.11.5"
  }
 },
 "nbformat": 4,
 "nbformat_minor": 5
}
